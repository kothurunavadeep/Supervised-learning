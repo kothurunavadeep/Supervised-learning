{
 "cells": [
  {
   "cell_type": "code",
   "execution_count": 3,
   "id": "9f4b90db-f8ca-4373-814f-ebf4720f1e3a",
   "metadata": {},
   "outputs": [],
   "source": [
    "import pandas as pd\n",
    "import numpy as p\n",
    "import matplotlib.pyplot as plt"
   ]
  },
  {
   "cell_type": "code",
   "execution_count": 4,
   "id": "0c69c104-391d-4c2b-89d6-66816333961e",
   "metadata": {},
   "outputs": [],
   "source": [
    "df=pd.read_csv(\"cars24-car-price-cleaned.csv\")"
   ]
  },
  {
   "cell_type": "code",
   "execution_count": 5,
   "id": "390c8f98-0830-4059-83da-e65ed8ef0faa",
   "metadata": {},
   "outputs": [
    {
     "name": "stdout",
     "output_type": "stream",
     "text": [
      "<class 'pandas.core.frame.DataFrame'>\n",
      "RangeIndex: 19820 entries, 0 to 19819\n",
      "Data columns (total 18 columns):\n",
      " #   Column            Non-Null Count  Dtype  \n",
      "---  ------            --------------  -----  \n",
      " 0   selling_price     19820 non-null  float64\n",
      " 1   year              19820 non-null  float64\n",
      " 2   km_driven         19820 non-null  int64  \n",
      " 3   mileage           19820 non-null  float64\n",
      " 4   engine            19820 non-null  float64\n",
      " 5   max_power         19820 non-null  float64\n",
      " 6   age               19820 non-null  float64\n",
      " 7   make              19820 non-null  object \n",
      " 8   model             19820 non-null  object \n",
      " 9   Individual        19820 non-null  int64  \n",
      " 10  Trustmark Dealer  19820 non-null  int64  \n",
      " 11  Diesel            19820 non-null  int64  \n",
      " 12  Electric          19820 non-null  int64  \n",
      " 13  LPG               19820 non-null  int64  \n",
      " 14  Petrol            19820 non-null  int64  \n",
      " 15  Manual            19820 non-null  int64  \n",
      " 16  5                 19820 non-null  int64  \n",
      " 17  >5                19820 non-null  int64  \n",
      "dtypes: float64(6), int64(10), object(2)\n",
      "memory usage: 2.7+ MB\n"
     ]
    }
   ],
   "source": [
    "df.info() #info command is used to share the structure of the data frame i.e.; how many columns are there , how many columns have int, float, string\n"
   ]
  },
  {
   "cell_type": "code",
   "execution_count": 6,
   "id": "88355f3b-b8cf-463e-8945-c5d1f2daea5f",
   "metadata": {},
   "outputs": [
    {
     "data": {
      "text/html": [
       "<div>\n",
       "<style scoped>\n",
       "    .dataframe tbody tr th:only-of-type {\n",
       "        vertical-align: middle;\n",
       "    }\n",
       "\n",
       "    .dataframe tbody tr th {\n",
       "        vertical-align: top;\n",
       "    }\n",
       "\n",
       "    .dataframe thead th {\n",
       "        text-align: right;\n",
       "    }\n",
       "</style>\n",
       "<table border=\"1\" class=\"dataframe\">\n",
       "  <thead>\n",
       "    <tr style=\"text-align: right;\">\n",
       "      <th></th>\n",
       "      <th>selling_price</th>\n",
       "      <th>year</th>\n",
       "      <th>km_driven</th>\n",
       "      <th>mileage</th>\n",
       "      <th>engine</th>\n",
       "      <th>max_power</th>\n",
       "      <th>age</th>\n",
       "      <th>make</th>\n",
       "      <th>model</th>\n",
       "      <th>Individual</th>\n",
       "      <th>Trustmark Dealer</th>\n",
       "      <th>Diesel</th>\n",
       "      <th>Electric</th>\n",
       "      <th>LPG</th>\n",
       "      <th>Petrol</th>\n",
       "      <th>Manual</th>\n",
       "      <th>5</th>\n",
       "      <th>&gt;5</th>\n",
       "    </tr>\n",
       "  </thead>\n",
       "  <tbody>\n",
       "    <tr>\n",
       "      <th>0</th>\n",
       "      <td>1.20</td>\n",
       "      <td>2012.0</td>\n",
       "      <td>120000</td>\n",
       "      <td>19.70</td>\n",
       "      <td>796.0</td>\n",
       "      <td>46.30</td>\n",
       "      <td>11.0</td>\n",
       "      <td>MARUTI</td>\n",
       "      <td>ALTO STD</td>\n",
       "      <td>1</td>\n",
       "      <td>0</td>\n",
       "      <td>0</td>\n",
       "      <td>0</td>\n",
       "      <td>0</td>\n",
       "      <td>1</td>\n",
       "      <td>1</td>\n",
       "      <td>1</td>\n",
       "      <td>0</td>\n",
       "    </tr>\n",
       "    <tr>\n",
       "      <th>1</th>\n",
       "      <td>5.50</td>\n",
       "      <td>2016.0</td>\n",
       "      <td>20000</td>\n",
       "      <td>18.90</td>\n",
       "      <td>1197.0</td>\n",
       "      <td>82.00</td>\n",
       "      <td>7.0</td>\n",
       "      <td>HYUNDAI</td>\n",
       "      <td>GRAND I10 ASTA</td>\n",
       "      <td>1</td>\n",
       "      <td>0</td>\n",
       "      <td>0</td>\n",
       "      <td>0</td>\n",
       "      <td>0</td>\n",
       "      <td>1</td>\n",
       "      <td>1</td>\n",
       "      <td>1</td>\n",
       "      <td>0</td>\n",
       "    </tr>\n",
       "    <tr>\n",
       "      <th>2</th>\n",
       "      <td>2.15</td>\n",
       "      <td>2010.0</td>\n",
       "      <td>60000</td>\n",
       "      <td>17.00</td>\n",
       "      <td>1197.0</td>\n",
       "      <td>80.00</td>\n",
       "      <td>13.0</td>\n",
       "      <td>HYUNDAI</td>\n",
       "      <td>I20 ASTA</td>\n",
       "      <td>1</td>\n",
       "      <td>0</td>\n",
       "      <td>0</td>\n",
       "      <td>0</td>\n",
       "      <td>0</td>\n",
       "      <td>1</td>\n",
       "      <td>1</td>\n",
       "      <td>1</td>\n",
       "      <td>0</td>\n",
       "    </tr>\n",
       "    <tr>\n",
       "      <th>3</th>\n",
       "      <td>2.26</td>\n",
       "      <td>2012.0</td>\n",
       "      <td>37000</td>\n",
       "      <td>20.92</td>\n",
       "      <td>998.0</td>\n",
       "      <td>67.10</td>\n",
       "      <td>11.0</td>\n",
       "      <td>MARUTI</td>\n",
       "      <td>ALTO K10 2010-2014 VXI</td>\n",
       "      <td>1</td>\n",
       "      <td>0</td>\n",
       "      <td>0</td>\n",
       "      <td>0</td>\n",
       "      <td>0</td>\n",
       "      <td>1</td>\n",
       "      <td>1</td>\n",
       "      <td>1</td>\n",
       "      <td>0</td>\n",
       "    </tr>\n",
       "    <tr>\n",
       "      <th>4</th>\n",
       "      <td>5.70</td>\n",
       "      <td>2015.0</td>\n",
       "      <td>30000</td>\n",
       "      <td>22.77</td>\n",
       "      <td>1498.0</td>\n",
       "      <td>98.59</td>\n",
       "      <td>8.0</td>\n",
       "      <td>FORD</td>\n",
       "      <td>ECOSPORT 2015-2021 1.5 TDCI TITANIUM BSIV</td>\n",
       "      <td>0</td>\n",
       "      <td>0</td>\n",
       "      <td>1</td>\n",
       "      <td>0</td>\n",
       "      <td>0</td>\n",
       "      <td>0</td>\n",
       "      <td>1</td>\n",
       "      <td>1</td>\n",
       "      <td>0</td>\n",
       "    </tr>\n",
       "  </tbody>\n",
       "</table>\n",
       "</div>"
      ],
      "text/plain": [
       "   selling_price    year  km_driven  mileage  engine  max_power   age  \\\n",
       "0           1.20  2012.0     120000    19.70   796.0      46.30  11.0   \n",
       "1           5.50  2016.0      20000    18.90  1197.0      82.00   7.0   \n",
       "2           2.15  2010.0      60000    17.00  1197.0      80.00  13.0   \n",
       "3           2.26  2012.0      37000    20.92   998.0      67.10  11.0   \n",
       "4           5.70  2015.0      30000    22.77  1498.0      98.59   8.0   \n",
       "\n",
       "      make                                      model  Individual  \\\n",
       "0   MARUTI                                   ALTO STD           1   \n",
       "1  HYUNDAI                             GRAND I10 ASTA           1   \n",
       "2  HYUNDAI                                   I20 ASTA           1   \n",
       "3   MARUTI                     ALTO K10 2010-2014 VXI           1   \n",
       "4     FORD  ECOSPORT 2015-2021 1.5 TDCI TITANIUM BSIV           0   \n",
       "\n",
       "   Trustmark Dealer  Diesel  Electric  LPG  Petrol  Manual  5  >5  \n",
       "0                 0       0         0    0       1       1  1   0  \n",
       "1                 0       0         0    0       1       1  1   0  \n",
       "2                 0       0         0    0       1       1  1   0  \n",
       "3                 0       0         0    0       1       1  1   0  \n",
       "4                 0       1         0    0       0       1  1   0  "
      ]
     },
     "execution_count": 6,
     "metadata": {},
     "output_type": "execute_result"
    }
   ],
   "source": [
    "df.head()\n"
   ]
  },
  {
   "cell_type": "code",
   "execution_count": 7,
   "id": "c9390a84-6271-4b93-8266-2db854505632",
   "metadata": {},
   "outputs": [
    {
     "data": {
      "text/html": [
       "<div>\n",
       "<style scoped>\n",
       "    .dataframe tbody tr th:only-of-type {\n",
       "        vertical-align: middle;\n",
       "    }\n",
       "\n",
       "    .dataframe tbody tr th {\n",
       "        vertical-align: top;\n",
       "    }\n",
       "\n",
       "    .dataframe thead th {\n",
       "        text-align: right;\n",
       "    }\n",
       "</style>\n",
       "<table border=\"1\" class=\"dataframe\">\n",
       "  <thead>\n",
       "    <tr style=\"text-align: right;\">\n",
       "      <th></th>\n",
       "      <th>selling_price</th>\n",
       "      <th>year</th>\n",
       "      <th>km_driven</th>\n",
       "      <th>mileage</th>\n",
       "      <th>engine</th>\n",
       "      <th>max_power</th>\n",
       "      <th>age</th>\n",
       "      <th>Individual</th>\n",
       "      <th>Trustmark Dealer</th>\n",
       "      <th>Diesel</th>\n",
       "      <th>Electric</th>\n",
       "      <th>LPG</th>\n",
       "      <th>Petrol</th>\n",
       "      <th>Manual</th>\n",
       "      <th>5</th>\n",
       "      <th>&gt;5</th>\n",
       "    </tr>\n",
       "  </thead>\n",
       "  <tbody>\n",
       "    <tr>\n",
       "      <th>count</th>\n",
       "      <td>19820.000000</td>\n",
       "      <td>19820.000000</td>\n",
       "      <td>1.982000e+04</td>\n",
       "      <td>19820.000000</td>\n",
       "      <td>19820.000000</td>\n",
       "      <td>19820.000000</td>\n",
       "      <td>19820.000000</td>\n",
       "      <td>19820.000000</td>\n",
       "      <td>19820.000000</td>\n",
       "      <td>19820.000000</td>\n",
       "      <td>19820.000000</td>\n",
       "      <td>19820.000000</td>\n",
       "      <td>19820.000000</td>\n",
       "      <td>19820.000000</td>\n",
       "      <td>19820.000000</td>\n",
       "      <td>19820.000000</td>\n",
       "    </tr>\n",
       "    <tr>\n",
       "      <th>mean</th>\n",
       "      <td>6.585509</td>\n",
       "      <td>2014.561453</td>\n",
       "      <td>5.815856e+04</td>\n",
       "      <td>19.503402</td>\n",
       "      <td>1475.702381</td>\n",
       "      <td>98.122907</td>\n",
       "      <td>8.438547</td>\n",
       "      <td>0.390666</td>\n",
       "      <td>0.009586</td>\n",
       "      <td>0.492583</td>\n",
       "      <td>0.000404</td>\n",
       "      <td>0.003229</td>\n",
       "      <td>0.487841</td>\n",
       "      <td>0.802674</td>\n",
       "      <td>0.835015</td>\n",
       "      <td>0.152825</td>\n",
       "    </tr>\n",
       "    <tr>\n",
       "      <th>std</th>\n",
       "      <td>4.847364</td>\n",
       "      <td>3.196636</td>\n",
       "      <td>5.171563e+04</td>\n",
       "      <td>4.297784</td>\n",
       "      <td>518.571223</td>\n",
       "      <td>44.761727</td>\n",
       "      <td>3.196636</td>\n",
       "      <td>0.487912</td>\n",
       "      <td>0.097442</td>\n",
       "      <td>0.499958</td>\n",
       "      <td>0.020087</td>\n",
       "      <td>0.056734</td>\n",
       "      <td>0.499865</td>\n",
       "      <td>0.397990</td>\n",
       "      <td>0.371176</td>\n",
       "      <td>0.359828</td>\n",
       "    </tr>\n",
       "    <tr>\n",
       "      <th>min</th>\n",
       "      <td>0.300000</td>\n",
       "      <td>1992.000000</td>\n",
       "      <td>1.000000e+02</td>\n",
       "      <td>4.000000</td>\n",
       "      <td>0.000000</td>\n",
       "      <td>5.000000</td>\n",
       "      <td>2.000000</td>\n",
       "      <td>0.000000</td>\n",
       "      <td>0.000000</td>\n",
       "      <td>0.000000</td>\n",
       "      <td>0.000000</td>\n",
       "      <td>0.000000</td>\n",
       "      <td>0.000000</td>\n",
       "      <td>0.000000</td>\n",
       "      <td>0.000000</td>\n",
       "      <td>0.000000</td>\n",
       "    </tr>\n",
       "    <tr>\n",
       "      <th>25%</th>\n",
       "      <td>3.410000</td>\n",
       "      <td>2013.000000</td>\n",
       "      <td>3.100000e+04</td>\n",
       "      <td>16.950000</td>\n",
       "      <td>1197.000000</td>\n",
       "      <td>73.900000</td>\n",
       "      <td>6.000000</td>\n",
       "      <td>0.000000</td>\n",
       "      <td>0.000000</td>\n",
       "      <td>0.000000</td>\n",
       "      <td>0.000000</td>\n",
       "      <td>0.000000</td>\n",
       "      <td>0.000000</td>\n",
       "      <td>1.000000</td>\n",
       "      <td>1.000000</td>\n",
       "      <td>0.000000</td>\n",
       "    </tr>\n",
       "    <tr>\n",
       "      <th>50%</th>\n",
       "      <td>5.200000</td>\n",
       "      <td>2015.000000</td>\n",
       "      <td>5.200000e+04</td>\n",
       "      <td>19.300000</td>\n",
       "      <td>1248.000000</td>\n",
       "      <td>86.800000</td>\n",
       "      <td>8.000000</td>\n",
       "      <td>0.000000</td>\n",
       "      <td>0.000000</td>\n",
       "      <td>0.000000</td>\n",
       "      <td>0.000000</td>\n",
       "      <td>0.000000</td>\n",
       "      <td>0.000000</td>\n",
       "      <td>1.000000</td>\n",
       "      <td>1.000000</td>\n",
       "      <td>0.000000</td>\n",
       "    </tr>\n",
       "    <tr>\n",
       "      <th>75%</th>\n",
       "      <td>7.850000</td>\n",
       "      <td>2017.000000</td>\n",
       "      <td>7.400000e+04</td>\n",
       "      <td>22.320000</td>\n",
       "      <td>1582.000000</td>\n",
       "      <td>112.000000</td>\n",
       "      <td>10.000000</td>\n",
       "      <td>1.000000</td>\n",
       "      <td>0.000000</td>\n",
       "      <td>1.000000</td>\n",
       "      <td>0.000000</td>\n",
       "      <td>0.000000</td>\n",
       "      <td>1.000000</td>\n",
       "      <td>1.000000</td>\n",
       "      <td>1.000000</td>\n",
       "      <td>0.000000</td>\n",
       "    </tr>\n",
       "    <tr>\n",
       "      <th>max</th>\n",
       "      <td>20.902500</td>\n",
       "      <td>2021.000000</td>\n",
       "      <td>3.800000e+06</td>\n",
       "      <td>120.000000</td>\n",
       "      <td>6752.000000</td>\n",
       "      <td>626.000000</td>\n",
       "      <td>31.000000</td>\n",
       "      <td>1.000000</td>\n",
       "      <td>1.000000</td>\n",
       "      <td>1.000000</td>\n",
       "      <td>1.000000</td>\n",
       "      <td>1.000000</td>\n",
       "      <td>1.000000</td>\n",
       "      <td>1.000000</td>\n",
       "      <td>1.000000</td>\n",
       "      <td>1.000000</td>\n",
       "    </tr>\n",
       "  </tbody>\n",
       "</table>\n",
       "</div>"
      ],
      "text/plain": [
       "       selling_price          year     km_driven       mileage        engine  \\\n",
       "count   19820.000000  19820.000000  1.982000e+04  19820.000000  19820.000000   \n",
       "mean        6.585509   2014.561453  5.815856e+04     19.503402   1475.702381   \n",
       "std         4.847364      3.196636  5.171563e+04      4.297784    518.571223   \n",
       "min         0.300000   1992.000000  1.000000e+02      4.000000      0.000000   \n",
       "25%         3.410000   2013.000000  3.100000e+04     16.950000   1197.000000   \n",
       "50%         5.200000   2015.000000  5.200000e+04     19.300000   1248.000000   \n",
       "75%         7.850000   2017.000000  7.400000e+04     22.320000   1582.000000   \n",
       "max        20.902500   2021.000000  3.800000e+06    120.000000   6752.000000   \n",
       "\n",
       "          max_power           age    Individual  Trustmark Dealer  \\\n",
       "count  19820.000000  19820.000000  19820.000000      19820.000000   \n",
       "mean      98.122907      8.438547      0.390666          0.009586   \n",
       "std       44.761727      3.196636      0.487912          0.097442   \n",
       "min        5.000000      2.000000      0.000000          0.000000   \n",
       "25%       73.900000      6.000000      0.000000          0.000000   \n",
       "50%       86.800000      8.000000      0.000000          0.000000   \n",
       "75%      112.000000     10.000000      1.000000          0.000000   \n",
       "max      626.000000     31.000000      1.000000          1.000000   \n",
       "\n",
       "             Diesel      Electric           LPG        Petrol        Manual  \\\n",
       "count  19820.000000  19820.000000  19820.000000  19820.000000  19820.000000   \n",
       "mean       0.492583      0.000404      0.003229      0.487841      0.802674   \n",
       "std        0.499958      0.020087      0.056734      0.499865      0.397990   \n",
       "min        0.000000      0.000000      0.000000      0.000000      0.000000   \n",
       "25%        0.000000      0.000000      0.000000      0.000000      1.000000   \n",
       "50%        0.000000      0.000000      0.000000      0.000000      1.000000   \n",
       "75%        1.000000      0.000000      0.000000      1.000000      1.000000   \n",
       "max        1.000000      1.000000      1.000000      1.000000      1.000000   \n",
       "\n",
       "                  5            >5  \n",
       "count  19820.000000  19820.000000  \n",
       "mean       0.835015      0.152825  \n",
       "std        0.371176      0.359828  \n",
       "min        0.000000      0.000000  \n",
       "25%        1.000000      0.000000  \n",
       "50%        1.000000      0.000000  \n",
       "75%        1.000000      0.000000  \n",
       "max        1.000000      1.000000  "
      ]
     },
     "execution_count": 7,
     "metadata": {},
     "output_type": "execute_result"
    }
   ],
   "source": [
    "df.describe()\n"
   ]
  },
  {
   "cell_type": "code",
   "execution_count": 8,
   "id": "a9c33c2d-2c00-4371-91db-f25da9b7f951",
   "metadata": {},
   "outputs": [
    {
     "data": {
      "text/plain": [
       "41"
      ]
     },
     "execution_count": 8,
     "metadata": {},
     "output_type": "execute_result"
    }
   ],
   "source": [
    "df[\"make\"].nunique() # nunique will give me the unique values present in a particular problem\n"
   ]
  },
  {
   "cell_type": "code",
   "execution_count": 9,
   "id": "d224ee5f-b1aa-4bd9-a4ce-7e3590886d99",
   "metadata": {},
   "outputs": [
    {
     "data": {
      "text/plain": [
       "3233"
      ]
     },
     "execution_count": 9,
     "metadata": {},
     "output_type": "execute_result"
    }
   ],
   "source": [
    "df[\"model\"].nunique()\n"
   ]
  },
  {
   "cell_type": "code",
   "execution_count": 10,
   "id": "20011ad4-a9f0-429b-be0c-e1182956d553",
   "metadata": {},
   "outputs": [
    {
     "data": {
      "text/plain": [
       "make\n",
       "MARUTI           5650\n",
       "HYUNDAI          3562\n",
       "HONDA            1779\n",
       "MAHINDRA         1276\n",
       "TOYOTA           1189\n",
       "TATA              971\n",
       "FORD              900\n",
       "VOLKSWAGEN        761\n",
       "RENAULT           636\n",
       "MERCEDES-BENZ     485\n",
       "BMW               483\n",
       "SKODA             422\n",
       "CHEVROLET         406\n",
       "AUDI              324\n",
       "NISSAN            289\n",
       "DATSUN            170\n",
       "FIAT              113\n",
       "JAGUAR             80\n",
       "LAND               51\n",
       "VOLVO              42\n",
       "JEEP               41\n",
       "MITSUBISHI         39\n",
       "KIA                33\n",
       "PORSCHE            25\n",
       "MINI               23\n",
       "MG                 19\n",
       "ISUZU              12\n",
       "LEXUS              10\n",
       "FORCE               5\n",
       "BENTLEY             4\n",
       "AMBASSADOR          4\n",
       "OPELCORSA           3\n",
       "DAEWOO              2\n",
       "PREMIER             2\n",
       "MASERATI            2\n",
       "DC                  2\n",
       "LAMBORGHINI         1\n",
       "FERRARI             1\n",
       "MERCEDES-AMG        1\n",
       "ROLLS-ROYCE         1\n",
       "OPEL                1\n",
       "Name: count, dtype: int64"
      ]
     },
     "execution_count": 10,
     "metadata": {},
     "output_type": "execute_result"
    }
   ],
   "source": [
    "df[\"make\"].value_counts() # .value_count will return the total value associated with the unique value\n",
    "    "
   ]
  },
  {
   "cell_type": "code",
   "execution_count": 11,
   "id": "9783d3a0-adaf-4525-9fe9-0ee19323a5fa",
   "metadata": {},
   "outputs": [
    {
     "data": {
      "text/plain": [
       "model\n",
       "SWIFT DZIRE VDI              288\n",
       "ALTO 800 LXI                 189\n",
       "WAGON R VXI                  164\n",
       "SWIFT VDI                    150\n",
       "SWIFT DZIRE VXI              136\n",
       "                            ... \n",
       "XUV300 W6 DIESEL               1\n",
       "NANO STD BS IV                 1\n",
       "FABIA 1.2 TDI ACTIVE           1\n",
       "FIESTA PETROL STYLE            1\n",
       "YARIS V OPTIONAL CVT BSIV      1\n",
       "Name: count, Length: 3233, dtype: int64"
      ]
     },
     "execution_count": 11,
     "metadata": {},
     "output_type": "execute_result"
    }
   ],
   "source": [
    "df[\"model\"].value_counts()"
   ]
  },
  {
   "cell_type": "code",
   "execution_count": 12,
   "id": "b5d6ab55-3dc5-4288-93ae-81ea76bc0f60",
   "metadata": {},
   "outputs": [
    {
     "data": {
      "text/plain": [
       "0         4.684721\n",
       "1         5.458819\n",
       "2         5.458819\n",
       "3         4.684721\n",
       "4         5.858258\n",
       "           ...    \n",
       "19815    10.532763\n",
       "19816     4.684721\n",
       "19817     7.182097\n",
       "19818     7.315421\n",
       "19819     5.979902\n",
       "Name: make, Length: 19820, dtype: float64"
      ]
     },
     "execution_count": 12,
     "metadata": {},
     "output_type": "execute_result"
    }
   ],
   "source": [
    "df[\"make\"] = df.groupby(\"make\")[\"selling_price\"].transform(\"mean\")\n",
    "df[\"make\"]\n"
   ]
  },
  {
   "cell_type": "code",
   "execution_count": 13,
   "id": "1658ff48-1a4e-4586-978c-697920310694",
   "metadata": {},
   "outputs": [
    {
     "data": {
      "text/plain": [
       "0         1.180000\n",
       "1         4.818750\n",
       "2         3.394000\n",
       "3         2.242676\n",
       "4         6.777576\n",
       "           ...    \n",
       "19815     7.075000\n",
       "19816     7.128571\n",
       "19817     4.454000\n",
       "19818     8.096522\n",
       "19819    11.014286\n",
       "Name: model, Length: 19820, dtype: float64"
      ]
     },
     "execution_count": 13,
     "metadata": {},
     "output_type": "execute_result"
    }
   ],
   "source": [
    "df[\"model\"] = df.groupby(\"model\")[\"selling_price\"].transform(\"mean\")\n",
    "df[\"model\"]\n"
   ]
  },
  {
   "cell_type": "code",
   "execution_count": 21,
   "id": "aa5643e7-8c04-40d2-bf76-53b311d6088b",
   "metadata": {},
   "outputs": [],
   "source": [
    "## Step 2\n",
    "#Divide the dataframe into target features and independent features"
   ]
  },
  {
   "cell_type": "code",
   "execution_count": null,
   "id": "d0781d40-dfe4-4703-afb7-730b94b7824c",
   "metadata": {},
   "outputs": [
    {
     "ename": "NameError",
     "evalue": "name 'MinMaxScaler' is not defined",
     "output_type": "error",
     "traceback": [
      "\u001b[1;31m---------------------------------------------------------------------------\u001b[0m",
      "\u001b[1;31mNameError\u001b[0m                                 Traceback (most recent call last)",
      "Cell \u001b[1;32mIn[15], line 1\u001b[0m\n\u001b[1;32m----> 1\u001b[0m scaler \u001b[38;5;241m=\u001b[39m MinMaxScaler()\n\u001b[0;32m      2\u001b[0m df1 \u001b[38;5;241m=\u001b[39m pd\u001b[38;5;241m.\u001b[39mDataFrame(scaler\u001b[38;5;241m.\u001b[39mfit_transform(df), columns \u001b[38;5;241m=\u001b[39m df\u001b[38;5;241m.\u001b[39mcolumns)  \n\u001b[0;32m      3\u001b[0m df1\n",
      "\u001b[1;31mNameError\u001b[0m: name 'MinMaxScaler' is not defined"
     ]
    }
   ],
   "source": [
    "scaler = MinMaxScaler()\n",
    "df1 = pd.DataFrame(scaler.fit_transform(df), columns = df.columns)  \n",
    "df1 "
   ]
  },
  {
   "cell_type": "code",
   "execution_count": 10,
   "id": "aae56e2f-4ac5-4464-b733-7cb7fc630181",
   "metadata": {},
   "outputs": [
    {
     "data": {
      "text/plain": [
       "((19820,), (19820, 17))"
      ]
     },
     "execution_count": 10,
     "metadata": {},
     "output_type": "execute_result"
    }
   ],
   "source": [
    "y=df1[\"selling_price\"]\n",
    "x=df1.drop(\"selling_price\",axis =1)  # Axis = 0 means rows are dropped, axis = 1 means colunms will be dropped\n",
    "y.shape,x.shape                         # It is used to tell the shape of df i.e.; how many rows and columns are present\n"
   ]
  },
  {
   "cell_type": "code",
   "execution_count": 12,
   "id": "e27f797a-8582-4dc0-933e-f880d71627ad",
   "metadata": {},
   "outputs": [],
   "source": [
    "from sklearn.linear_model import LinearRegression"
   ]
  },
  {
   "cell_type": "code",
   "execution_count": 13,
   "id": "cd92b017-34a3-45d2-8f2e-50801ff0ba39",
   "metadata": {},
   "outputs": [
    {
     "ename": "NameError",
     "evalue": "name 'x_train' is not defined",
     "output_type": "error",
     "traceback": [
      "\u001b[1;31m---------------------------------------------------------------------------\u001b[0m",
      "\u001b[1;31mNameError\u001b[0m                                 Traceback (most recent call last)",
      "Cell \u001b[1;32mIn[13], line 2\u001b[0m\n\u001b[0;32m      1\u001b[0m model \u001b[38;5;241m=\u001b[39m LinearRegression()\n\u001b[1;32m----> 2\u001b[0m model\u001b[38;5;241m.\u001b[39mfit(x_train,y_train)\n",
      "\u001b[1;31mNameError\u001b[0m: name 'x_train' is not defined"
     ]
    }
   ],
   "source": [
    "model = LinearRegression()\n",
    "model.fit(x_train,y_train)"
   ]
  },
  {
   "cell_type": "code",
   "execution_count": null,
   "id": "88474b4e-635f-48e3-86a1-4fdf6d87a53e",
   "metadata": {},
   "outputs": [],
   "source": [
    "x_pred = model.predict(x_train)\n",
    "y_pred = model.predict(x_test)\n",
    "x_pred\n"
   ]
  },
  {
   "cell_type": "code",
   "execution_count": null,
   "id": "e2f76af8-a8df-4c82-8454-a7cb8ea86dd4",
   "metadata": {},
   "outputs": [],
   "source": [
    "model.coef_"
   ]
  },
  {
   "cell_type": "code",
   "execution_count": null,
   "id": "0f4e8015-33fb-48c3-a295-7375e0d0993c",
   "metadata": {},
   "outputs": [],
   "source": [
    "model.intercept_"
   ]
  },
  {
   "cell_type": "code",
   "execution_count": null,
   "id": "b873f258-9390-401a-93bf-37720bc7a693",
   "metadata": {},
   "outputs": [],
   "source": [
    "model.score(x_test,y_test)"
   ]
  },
  {
   "cell_type": "code",
   "execution_count": null,
   "id": "1b43088e-9b9c-462a-b1d2-61684e8daff7",
   "metadata": {},
   "outputs": [],
   "source": [
    "y_test_predict = model.predict(x_test)\n",
    "y_test_predict"
   ]
  },
  {
   "cell_type": "code",
   "execution_count": 23,
   "id": "1c01224e-0c6e-4012-b907-b8d2ff3cc01a",
   "metadata": {},
   "outputs": [
    {
     "ename": "NameError",
     "evalue": "name 'y_test_predict' is not defined",
     "output_type": "error",
     "traceback": [
      "\u001b[1;31m---------------------------------------------------------------------------\u001b[0m",
      "\u001b[1;31mNameError\u001b[0m                                 Traceback (most recent call last)",
      "Cell \u001b[1;32mIn[23], line 2\u001b[0m\n\u001b[0;32m      1\u001b[0m fig \u001b[38;5;241m=\u001b[39m plt\u001b[38;5;241m.\u001b[39mfigure()\n\u001b[1;32m----> 2\u001b[0m plt\u001b[38;5;241m.\u001b[39mscatter(y_test_predict, y_test)\n\u001b[0;32m      3\u001b[0m plt\u001b[38;5;241m.\u001b[39mlegend()\n\u001b[0;32m      4\u001b[0m plt\u001b[38;5;241m.\u001b[39mshow()\n",
      "\u001b[1;31mNameError\u001b[0m: name 'y_test_predict' is not defined"
     ]
    },
    {
     "data": {
      "text/plain": [
       "<Figure size 640x480 with 0 Axes>"
      ]
     },
     "metadata": {},
     "output_type": "display_data"
    }
   ],
   "source": [
    "fig = plt.figure()\n",
    "plt.scatter(y_test_predict, y_test)\n",
    "plt.legend()\n",
    "plt.show()"
   ]
  },
  {
   "cell_type": "code",
   "execution_count": 24,
   "id": "e56a2312-4031-4671-9dd7-bf8a9db25361",
   "metadata": {},
   "outputs": [
    {
     "ename": "SyntaxError",
     "evalue": "'(' was never closed (1875240874.py, line 2)",
     "output_type": "error",
     "traceback": [
      "\u001b[1;36m  Cell \u001b[1;32mIn[24], line 2\u001b[1;36m\u001b[0m\n\u001b[1;33m    imp = pd.DataFrame(list(zip((x_test.columns,np.abs(model.coef_))),\u001b[0m\n\u001b[1;37m                      ^\u001b[0m\n\u001b[1;31mSyntaxError\u001b[0m\u001b[1;31m:\u001b[0m '(' was never closed\n"
     ]
    }
   ],
   "source": [
    "import seaborn as sns\n",
    "imp = pd.DataFrame(list(zip((x_test.columns,np.abs(model.coef_))),\n",
    "                        colums=['feature','coeffe'])\n",
    "sns.barplot(x='features',y='coeffe',data=imp)\n",
    "plt.xtickets(rotation=90)                     # zip cammand is used to pack  different data type together "
   ]
  },
  {
   "cell_type": "code",
   "execution_count": 25,
   "id": "ba5fc967-f25e-4d69-9649-c6e690aa5476",
   "metadata": {},
   "outputs": [
    {
     "ename": "SyntaxError",
     "evalue": "invalid syntax (3171012898.py, line 2)",
     "output_type": "error",
     "traceback": [
      "\u001b[1;36m  Cell \u001b[1;32mIn[25], line 2\u001b[1;36m\u001b[0m\n\u001b[1;33m    r^2 matrix it is a measure odf hoe much varience is capchared by regression line (defination)\u001b[0m\n\u001b[1;37m        ^\u001b[0m\n\u001b[1;31mSyntaxError\u001b[0m\u001b[1;31m:\u001b[0m invalid syntax\n"
     ]
    }
   ],
   "source": [
    "#\n",
    "r^2 matrix it is a measure odf hoe much varience is capchared by regression line (defination)"
   ]
  },
  {
   "cell_type": "code",
   "execution_count": null,
   "id": "91c87855-bdc4-429d-aba6-25c193e05cf6",
   "metadata": {},
   "outputs": [],
   "source": []
  }
 ],
 "metadata": {
  "kernelspec": {
   "display_name": "Python 3 (ipykernel)",
   "language": "python",
   "name": "python3"
  },
  "language_info": {
   "codemirror_mode": {
    "name": "ipython",
    "version": 3
   },
   "file_extension": ".py",
   "mimetype": "text/x-python",
   "name": "python",
   "nbconvert_exporter": "python",
   "pygments_lexer": "ipython3",
   "version": "3.11.7"
  }
 },
 "nbformat": 4,
 "nbformat_minor": 5
}
