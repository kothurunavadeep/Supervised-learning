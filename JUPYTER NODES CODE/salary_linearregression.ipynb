{
 "cells": [
  {
   "cell_type": "code",
   "execution_count": null,
   "id": "c96303e7-647e-4ee7-aa00-527fcba9c495",
   "metadata": {},
   "outputs": [],
   "source": [
    "import numpy as np\n",
    "import pandas as pd\n",
    "import matplotlib.pyplot as plt"
   ]
  },
  {
   "cell_type": "code",
   "execution_count": null,
   "id": "270c2424-650e-45af-891e-ea71ee0b923d",
   "metadata": {},
   "outputs": [],
   "source": [
    "df=pd.read_csv(\"salary_data.csv\")"
   ]
  },
  {
   "cell_type": "code",
   "execution_count": 7,
   "id": "0220fa78-47f9-4360-95e6-5d4e96a2d2e5",
   "metadata": {},
   "outputs": [
    {
     "data": {
      "text/plain": [
       "(      Salary\n",
       " 0    39343.0\n",
       " 1    46205.0\n",
       " 2    37731.0\n",
       " 3    43525.0\n",
       " 4    39891.0\n",
       " 5    56642.0\n",
       " 6    60150.0\n",
       " 7    54445.0\n",
       " 8    64445.0\n",
       " 9    57189.0\n",
       " 10   63218.0\n",
       " 11   55794.0\n",
       " 12   56957.0\n",
       " 13   57081.0\n",
       " 14   61111.0\n",
       " 15   67938.0\n",
       " 16   66029.0\n",
       " 17   83088.0\n",
       " 18   81363.0\n",
       " 19   93940.0\n",
       " 20   91738.0\n",
       " 21   98273.0\n",
       " 22  101302.0\n",
       " 23  113812.0\n",
       " 24  109431.0\n",
       " 25  105582.0\n",
       " 26  116969.0\n",
       " 27  112635.0\n",
       " 28  122391.0\n",
       " 29  121872.0,\n",
       " 0      1.1\n",
       " 1      1.3\n",
       " 2      1.5\n",
       " 3      2.0\n",
       " 4      2.2\n",
       " 5      2.9\n",
       " 6      3.0\n",
       " 7      3.2\n",
       " 8      3.2\n",
       " 9      3.7\n",
       " 10     3.9\n",
       " 11     4.0\n",
       " 12     4.0\n",
       " 13     4.1\n",
       " 14     4.5\n",
       " 15     4.9\n",
       " 16     5.1\n",
       " 17     5.3\n",
       " 18     5.9\n",
       " 19     6.0\n",
       " 20     6.8\n",
       " 21     7.1\n",
       " 22     7.9\n",
       " 23     8.2\n",
       " 24     8.7\n",
       " 25     9.0\n",
       " 26     9.5\n",
       " 27     9.6\n",
       " 28    10.3\n",
       " 29    10.5\n",
       " Name: YearsExperience, dtype: float64)"
      ]
     },
     "execution_count": 7,
     "metadata": {},
     "output_type": "execute_result"
    }
   ],
   "source": [
    "x = pd.DataFrame(df[\"Salary\"])\n",
    "y= df[\"YearsExperience\"]\n",
    "x,y\n",
    "#Again we have to divide both the data frame into train data and test data\n",
    "#Train is the one from which we will be training our model the test data is the one from which we will be testing our model\n",
    "#We will be using 80% of the data for training purpose and 20% of the data for testing purpose, for the we will import a lib named train_test_split"
   ]
  },
  {
   "cell_type": "code",
   "execution_count": 8,
   "id": "3423fdee-7473-43ff-ad42-d8ca9d49e272",
   "metadata": {},
   "outputs": [],
   "source": [
    "from sklearn.model_selection import train_test_split"
   ]
  },
  {
   "cell_type": "code",
   "execution_count": 9,
   "id": "ef5e89d6-6d6c-4512-bd99-e5beaa865413",
   "metadata": {},
   "outputs": [],
   "source": [
    "x_train, x_test, y_train, y_test = train_test_split(x, y, test_size = 0.3, random_state = 1) # random_state = 1 is used to control the randomness of the data set which means nomatter how many iterations we are doing, the train data will remain same for all the iterations and test data will same for all the iterations"
   ]
  },
  {
   "cell_type": "code",
   "execution_count": 10,
   "id": "2b627c3f-8a93-4843-8cf2-1d24720408b1",
   "metadata": {},
   "outputs": [
    {
     "data": {
      "text/plain": [
       "(      Salary\n",
       " 22  101302.0\n",
       " 23  113812.0\n",
       " 4    39891.0\n",
       " 2    37731.0\n",
       " 25  105582.0\n",
       " 6    60150.0\n",
       " 18   81363.0\n",
       " 13   57081.0\n",
       " 7    54445.0\n",
       " 27  112635.0\n",
       " 1    46205.0\n",
       " 16   66029.0\n",
       " 0    39343.0\n",
       " 15   67938.0\n",
       " 29  121872.0\n",
       " 28  122391.0\n",
       " 9    57189.0\n",
       " 8    64445.0\n",
       " 12   56957.0\n",
       " 11   55794.0\n",
       " 5    56642.0,\n",
       " 22     7.9\n",
       " 23     8.2\n",
       " 4      2.2\n",
       " 2      1.5\n",
       " 25     9.0\n",
       " 6      3.0\n",
       " 18     5.9\n",
       " 13     4.1\n",
       " 7      3.2\n",
       " 27     9.6\n",
       " 1      1.3\n",
       " 16     5.1\n",
       " 0      1.1\n",
       " 15     4.9\n",
       " 29    10.5\n",
       " 28    10.3\n",
       " 9      3.7\n",
       " 8      3.2\n",
       " 12     4.0\n",
       " 11     4.0\n",
       " 5      2.9\n",
       " Name: YearsExperience, dtype: float64,\n",
       "       Salary\n",
       " 17   83088.0\n",
       " 21   98273.0\n",
       " 10   63218.0\n",
       " 19   93940.0\n",
       " 14   61111.0\n",
       " 20   91738.0\n",
       " 26  116969.0\n",
       " 3    43525.0\n",
       " 24  109431.0,\n",
       " 17    5.3\n",
       " 21    7.1\n",
       " 10    3.9\n",
       " 19    6.0\n",
       " 14    4.5\n",
       " 20    6.8\n",
       " 26    9.5\n",
       " 3     2.0\n",
       " 24    8.7\n",
       " Name: YearsExperience, dtype: float64)"
      ]
     },
     "execution_count": 10,
     "metadata": {},
     "output_type": "execute_result"
    }
   ],
   "source": [
    "x_train, y_train, x_test, y_test  # after the splitting the data now we prepare a linear reggresion model on our train data set\n",
    "                                   # for buildind a model we will import LR libary\n",
    "                                   "
   ]
  },
  {
   "cell_type": "code",
   "execution_count": 11,
   "id": "a3205530-7e6d-4ffc-93b3-d1bcaa121fe3",
   "metadata": {},
   "outputs": [],
   "source": [
    "from sklearn.linear_model import LinearRegression"
   ]
  },
  {
   "cell_type": "code",
   "execution_count": 12,
   "id": "d7c3d05a-1016-493e-aee0-ba21d95348f6",
   "metadata": {},
   "outputs": [
    {
     "data": {
      "text/html": [
       "<style>#sk-container-id-1 {color: black;background-color: white;}#sk-container-id-1 pre{padding: 0;}#sk-container-id-1 div.sk-toggleable {background-color: white;}#sk-container-id-1 label.sk-toggleable__label {cursor: pointer;display: block;width: 100%;margin-bottom: 0;padding: 0.3em;box-sizing: border-box;text-align: center;}#sk-container-id-1 label.sk-toggleable__label-arrow:before {content: \"▸\";float: left;margin-right: 0.25em;color: #696969;}#sk-container-id-1 label.sk-toggleable__label-arrow:hover:before {color: black;}#sk-container-id-1 div.sk-estimator:hover label.sk-toggleable__label-arrow:before {color: black;}#sk-container-id-1 div.sk-toggleable__content {max-height: 0;max-width: 0;overflow: hidden;text-align: left;background-color: #f0f8ff;}#sk-container-id-1 div.sk-toggleable__content pre {margin: 0.2em;color: black;border-radius: 0.25em;background-color: #f0f8ff;}#sk-container-id-1 input.sk-toggleable__control:checked~div.sk-toggleable__content {max-height: 200px;max-width: 100%;overflow: auto;}#sk-container-id-1 input.sk-toggleable__control:checked~label.sk-toggleable__label-arrow:before {content: \"▾\";}#sk-container-id-1 div.sk-estimator input.sk-toggleable__control:checked~label.sk-toggleable__label {background-color: #d4ebff;}#sk-container-id-1 div.sk-label input.sk-toggleable__control:checked~label.sk-toggleable__label {background-color: #d4ebff;}#sk-container-id-1 input.sk-hidden--visually {border: 0;clip: rect(1px 1px 1px 1px);clip: rect(1px, 1px, 1px, 1px);height: 1px;margin: -1px;overflow: hidden;padding: 0;position: absolute;width: 1px;}#sk-container-id-1 div.sk-estimator {font-family: monospace;background-color: #f0f8ff;border: 1px dotted black;border-radius: 0.25em;box-sizing: border-box;margin-bottom: 0.5em;}#sk-container-id-1 div.sk-estimator:hover {background-color: #d4ebff;}#sk-container-id-1 div.sk-parallel-item::after {content: \"\";width: 100%;border-bottom: 1px solid gray;flex-grow: 1;}#sk-container-id-1 div.sk-label:hover label.sk-toggleable__label {background-color: #d4ebff;}#sk-container-id-1 div.sk-serial::before {content: \"\";position: absolute;border-left: 1px solid gray;box-sizing: border-box;top: 0;bottom: 0;left: 50%;z-index: 0;}#sk-container-id-1 div.sk-serial {display: flex;flex-direction: column;align-items: center;background-color: white;padding-right: 0.2em;padding-left: 0.2em;position: relative;}#sk-container-id-1 div.sk-item {position: relative;z-index: 1;}#sk-container-id-1 div.sk-parallel {display: flex;align-items: stretch;justify-content: center;background-color: white;position: relative;}#sk-container-id-1 div.sk-item::before, #sk-container-id-1 div.sk-parallel-item::before {content: \"\";position: absolute;border-left: 1px solid gray;box-sizing: border-box;top: 0;bottom: 0;left: 50%;z-index: -1;}#sk-container-id-1 div.sk-parallel-item {display: flex;flex-direction: column;z-index: 1;position: relative;background-color: white;}#sk-container-id-1 div.sk-parallel-item:first-child::after {align-self: flex-end;width: 50%;}#sk-container-id-1 div.sk-parallel-item:last-child::after {align-self: flex-start;width: 50%;}#sk-container-id-1 div.sk-parallel-item:only-child::after {width: 0;}#sk-container-id-1 div.sk-dashed-wrapped {border: 1px dashed gray;margin: 0 0.4em 0.5em 0.4em;box-sizing: border-box;padding-bottom: 0.4em;background-color: white;}#sk-container-id-1 div.sk-label label {font-family: monospace;font-weight: bold;display: inline-block;line-height: 1.2em;}#sk-container-id-1 div.sk-label-container {text-align: center;}#sk-container-id-1 div.sk-container {/* jupyter's `normalize.less` sets `[hidden] { display: none; }` but bootstrap.min.css set `[hidden] { display: none !important; }` so we also need the `!important` here to be able to override the default hidden behavior on the sphinx rendered scikit-learn.org. See: https://github.com/scikit-learn/scikit-learn/issues/21755 */display: inline-block !important;position: relative;}#sk-container-id-1 div.sk-text-repr-fallback {display: none;}</style><div id=\"sk-container-id-1\" class=\"sk-top-container\"><div class=\"sk-text-repr-fallback\"><pre>LinearRegression()</pre><b>In a Jupyter environment, please rerun this cell to show the HTML representation or trust the notebook. <br />On GitHub, the HTML representation is unable to render, please try loading this page with nbviewer.org.</b></div><div class=\"sk-container\" hidden><div class=\"sk-item\"><div class=\"sk-estimator sk-toggleable\"><input class=\"sk-toggleable__control sk-hidden--visually\" id=\"sk-estimator-id-1\" type=\"checkbox\" checked><label for=\"sk-estimator-id-1\" class=\"sk-toggleable__label sk-toggleable__label-arrow\">LinearRegression</label><div class=\"sk-toggleable__content\"><pre>LinearRegression()</pre></div></div></div></div></div>"
      ],
      "text/plain": [
       "LinearRegression()"
      ]
     },
     "execution_count": 12,
     "metadata": {},
     "output_type": "execute_result"
    }
   ],
   "source": [
    "model = LinearRegression()         #model is a object and LR is a class fit is a method\n",
    "model.fit(x_train,y_train)"
   ]
  },
  {
   "cell_type": "code",
   "execution_count": 13,
   "id": "ff9f826f-b78f-4af1-8535-f1389df9c47e",
   "metadata": {},
   "outputs": [],
   "source": [
    "x_pred = model.predict(x_train)  # after buildinng LR model we will make prediction on the test data and then we will calculate a the coefficient and intercept \n",
    "y_pred= model.predict(x_test)"
   ]
  },
  {
   "cell_type": "code",
   "execution_count": 14,
   "id": "9ff0934e-0213-4e2f-b241-2b1057b30430",
   "metadata": {},
   "outputs": [
    {
     "data": {
      "text/plain": [
       "array([ 8.05410626,  9.36023523,  1.64238074,  1.41686206,  8.50096733,\n",
       "        3.75755794,  5.97233923,  3.4371335 ,  3.16191719,  9.23734844,\n",
       "        2.30160522,  4.37136547,  1.58516581,  4.57067804, 10.20175398,\n",
       "       10.2559411 ,  3.44840943,  4.20598511,  3.42418705,  3.30276195,\n",
       "        3.39129891])"
      ]
     },
     "execution_count": 14,
     "metadata": {},
     "output_type": "execute_result"
    }
   ],
   "source": [
    "x_pred"
   ]
  },
  {
   "cell_type": "code",
   "execution_count": 15,
   "id": "aff379f4-c2e6-4134-8fc0-bbaeae302669",
   "metadata": {},
   "outputs": [
    {
     "data": {
      "text/plain": [
       "array([0.00010441])"
      ]
     },
     "execution_count": 15,
     "metadata": {},
     "output_type": "execute_result"
    }
   ],
   "source": [
    "model.coef_"
   ]
  },
  {
   "cell_type": "code",
   "execution_count": 16,
   "id": "2ccf0364-c1dc-48d7-b7c2-6002d0803f53",
   "metadata": {},
   "outputs": [
    {
     "data": {
      "text/plain": [
       "-2.522510616511818"
      ]
     },
     "execution_count": 16,
     "metadata": {},
     "output_type": "execute_result"
    }
   ],
   "source": [
    "model.intercept_"
   ]
  },
  {
   "cell_type": "code",
   "execution_count": 17,
   "id": "40da750c-4c75-494f-bced-208bb0bf14aa",
   "metadata": {},
   "outputs": [
    {
     "data": {
      "text/plain": [
       "0.9242662549548135"
      ]
     },
     "execution_count": 17,
     "metadata": {},
     "output_type": "execute_result"
    }
   ],
   "source": [
    "model.score(x_test,y_test) # this will give the accuracy of my model"
   ]
  },
  {
   "cell_type": "code",
   "execution_count": 23,
   "id": "3e46bd35-fd97-41b0-971b-7ba08d92fc28",
   "metadata": {},
   "outputs": [
    {
     "data": {
      "image/png": "[encoded data removed]",
      "text/plain": [
       "<Figure size 640x480 with 1 Axes>"
      ]
     },
     "metadata": {},
     "output_type": "display_data"
    }
   ],
   "source": [
    "plt.scatter(x_train,y_train,color=\"Green\")\n",
    "plt.plot(x_train,x_pred,color=\"red\")\n",
    "plt.title(\"Salary vs Experience\")\n",
    "plt.xlabel(\"years of experience\")\n",
    "plt.ylabel(\"Salary\")\n",
    "plt.show()"
   ]
  },
  {
   "cell_type": "code",
   "execution_count": null,
   "id": "68e57420-3b9f-40c5-bd25-1536dd7b798f",
   "metadata": {},
   "outputs": [],
   "source": []
  }
 ],
 "metadata": {
  "kernelspec": {
   "display_name": "Python 3 (ipykernel)",
   "language": "python",
   "name": "python3"
  },
  "language_info": {
   "codemirror_mode": {
    "name": "ipython",
    "version": 3
   },
   "file_extension": ".py",
   "mimetype": "text/x-python",
   "name": "python",
   "nbconvert_exporter": "python",
   "pygments_lexer": "ipython3",
   "version": "3.11.7"
  }
 },
 "nbformat": 4,
 "nbformat_minor": 5
}
