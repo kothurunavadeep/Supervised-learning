{
 "cells": [
  {
   "cell_type": "code",
   "execution_count": 1,
   "id": "05120ebe-2320-42f7-a012-1a38158e278a",
   "metadata": {},
   "outputs": [
    {
     "name": "stdout",
     "output_type": "stream",
     "text": [
      "hellow navadeep\n"
     ]
    }
   ],
   "source": [
    "print(\"hellow navadeep\")"
   ]
  },
  {
   "cell_type": "code",
   "execution_count": 2,
   "id": "af16719a-48ef-4c03-8649-ed55ecac6c6a",
   "metadata": {},
   "outputs": [
    {
     "name": "stdout",
     "output_type": "stream",
     "text": [
      "all the best\n"
     ]
    }
   ],
   "source": [
    "print(\"all the best\")"
   ]
  },
  {
   "cell_type": "code",
   "execution_count": null,
   "id": "5835e1bf-72fe-46b8-8462-6229b39b83ac",
   "metadata": {},
   "outputs": [],
   "source": []
  }
 ],
 "metadata": {
  "kernelspec": {
   "display_name": "Python 3 (ipykernel)",
   "language": "python",
   "name": "python3"
  },
  "language_info": {
   "codemirror_mode": {
    "name": "ipython",
    "version": 3
   },
   "file_extension": ".py",
   "mimetype": "text/x-python",
   "name": "python",
   "nbconvert_exporter": "python",
   "pygments_lexer": "ipython3",
   "version": "3.11.7"
  }
 },
 "nbformat": 4,
 "nbformat_minor": 5
}
