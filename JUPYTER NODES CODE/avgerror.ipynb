{
 "cells": [
  {
   "cell_type": "code",
   "execution_count": null,
   "id": "518dc9bd-67a4-4cad-adcf-89df1c6bbf54",
   "metadata": {},
   "outputs": [],
   "source": [
    "import numpy as np \n",
    "\n",
    "def mae(X,Y,W) :\n",
    "    b = 0   \n",
    "    error = 0\n",
    "    for i in range(len(X)) :\n",
    "        predicted_output = W * X[i] + b\n",
    "        error += (Y[i] - predicted_output)\n",
    "    error = np.abs(error)    \n",
    "    return error / len(X) \n",
    "\n",
    "def mse(X,Y,W) :\n",
    "    b = 0 \n",
    "    error = 0 \n",
    "    for i in range(len(X)) :\n",
    "        predicted_output = W * X[i] + b\n",
    "        error += (Y[i] - predicted_output) ** 2\n",
    "    return error / len(X) \n",
    "    \n",
    "List_X = [2,7,8,9]\n",
    "List_Y = [13,15,19,17]\n",
    "W = int(input(\"Enter W value\")) \n",
    "mae_result = mae(X , Y , W)\n",
    "print(\"Mean Absolute Error is :- \",mae_result)\n",
    "mse_result = mse(X , Y , W) \n",
    "print(\"Mean Square Error is :- \",mse_result)"
   ]
  },
  {
   "cell_type": "code",
   "execution_count": null,
   "id": "35e55758-4a1e-49b8-834b-21b82ed09fdf",
   "metadata": {},
   "outputs": [],
   "source": []
  }
 ],
 "metadata": {
  "kernelspec": {
   "display_name": "Python 3 (ipykernel)",
   "language": "python",
   "name": "python3"
  },
  "language_info": {
   "codemirror_mode": {
    "name": "ipython",
    "version": 3
   },
   "file_extension": ".py",
   "mimetype": "text/x-python",
   "name": "python",
   "nbconvert_exporter": "python",
   "pygments_lexer": "ipython3",
   "version": "3.11.7"
  }
 },
 "nbformat": 4,
 "nbformat_minor": 5
}
